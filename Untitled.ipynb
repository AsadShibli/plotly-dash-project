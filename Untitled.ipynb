{
 "cells": [
  {
   "cell_type": "code",
   "execution_count": 1,
   "id": "161ebe5f",
   "metadata": {},
   "outputs": [],
   "source": [
    "import pandas as pd\n",
    "\n",
    "import plotly.express as px\n",
    "import plotly.graph_objects as go"
   ]
  },
  {
   "cell_type": "code",
   "execution_count": 4,
   "id": "acbcb1e8",
   "metadata": {},
   "outputs": [],
   "source": [
    "df=  pd.read_csv(\"car.csv\")"
   ]
  },
  {
   "cell_type": "code",
   "execution_count": 8,
   "id": "557306ff",
   "metadata": {
    "scrolled": true
   },
   "outputs": [
    {
     "data": {
      "text/plain": [
       "array(['MG', 'Toyota', 'Honda', 'KIA', 'Nissan', 'Suzuki',\n",
       "       'Mercedes Benz', 'Range Rover', 'Daihatsu', 'Changan', 'BMW',\n",
       "       'Hyundai', 'Mazda', 'Haval', 'DFSK', 'Mitsubishi', 'Audi',\n",
       "       'Chevrolet', 'Porsche', 'United', 'Others', 'FAW', 'Lexus',\n",
       "       'Prince', 'Chrysler', 'Subaru', 'Peugeot', 'Ford', 'Land Rover',\n",
       "       'Master', 'Volkswagen', 'Chery', 'Willys', 'Proton', 'Jeep',\n",
       "       'MINI', 'SsangYong', 'Isuzu', 'Daewoo', 'Daehan', 'BAIC', 'Tesla',\n",
       "       'Cadillac', 'Datsun', 'Adam', 'Hummer', 'Alfa Romeo', 'Sogo',\n",
       "       'Golf', 'Jaguar', 'Dodge', 'Hino', 'Buick', 'Morris', 'JW Forland',\n",
       "       'Bentley', 'JAC', 'Fiat', 'Roma', 'JMC', 'Ferrari', 'Geely',\n",
       "       'ZOTYE', 'Opel', 'Vauxhall', 'Oldsmobile', 'GMC', 'Citroen',\n",
       "       'Classic Cars', 'Mushtaq', 'Volvo'], dtype=object)"
      ]
     },
     "execution_count": 8,
     "metadata": {},
     "output_type": "execute_result"
    }
   ],
   "source": [
    "df.brand.unique()"
   ]
  },
  {
   "cell_type": "code",
   "execution_count": 9,
   "id": "30ea7a00",
   "metadata": {},
   "outputs": [
    {
     "data": {
      "text/plain": [
       "array([2021., 2012., 2015., 2022., 2004., 2008., 2018., 2003., 2010.,\n",
       "       2017., 2019., 2020., 2013., 2014., 2007., 1999., 2016., 1997.,\n",
       "       2023., 2001., 2011., 1985., 1987., 1984., 2000., 2006., 1982.,\n",
       "       2005., 1998., 1988., 1995., 2009., 1980., 1996., 1994., 1989.,\n",
       "       1991., 1993., 2002., 1992., 1986., 1967., 1981., 1969., 1990.,\n",
       "       1983., 1960., 1979., 1974., 1970., 1965., 1968., 1975., 1963.,\n",
       "       1976., 1961., 1978., 1972., 1973., 1951., 1966., 1962., 1971.,\n",
       "       1952., 1977., 1964., 1942.])"
      ]
     },
     "execution_count": 9,
     "metadata": {},
     "output_type": "execute_result"
    }
   ],
   "source": [
    "df[\"model_date\"].unique()"
   ]
  },
  {
   "cell_type": "code",
   "execution_count": null,
   "id": "afb47a1f",
   "metadata": {},
   "outputs": [],
   "source": []
  }
 ],
 "metadata": {
  "kernelspec": {
   "display_name": "Python 3 (ipykernel)",
   "language": "python",
   "name": "python3"
  },
  "language_info": {
   "codemirror_mode": {
    "name": "ipython",
    "version": 3
   },
   "file_extension": ".py",
   "mimetype": "text/x-python",
   "name": "python",
   "nbconvert_exporter": "python",
   "pygments_lexer": "ipython3",
   "version": "3.9.13"
  }
 },
 "nbformat": 4,
 "nbformat_minor": 5
}
